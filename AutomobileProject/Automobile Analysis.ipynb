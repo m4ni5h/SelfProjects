{
 "cells": [
  {
   "cell_type": "code",
   "execution_count": 2,
   "metadata": {},
   "outputs": [],
   "source": [
    "import pandas as pd\n",
    "import numpy as np\n",
    "#from ggplot import *\n",
    "%matplotlib inline"
   ]
  },
  {
   "cell_type": "code",
   "execution_count": 3,
   "metadata": {},
   "outputs": [
    {
     "name": "stderr",
     "output_type": "stream",
     "text": [
      "C:\\Anaconda\\lib\\site-packages\\IPython\\core\\interactiveshell.py:3049: DtypeWarning: Columns (68,70,71,72,73,74,76,79) have mixed types. Specify dtype option on import or set low_memory=False.\n",
      "  interactivity=interactivity, compiler=compiler, result=result)\n"
     ]
    },
    {
     "data": {
      "text/plain": [
       "<bound method NDFrame.head of        barrels08  barrelsA08  charge120  charge240  city08  city08U  cityA08  \\\n",
       "0      15.695714         0.0        0.0        0.0      19      0.0        0   \n",
       "1      29.964545         0.0        0.0        0.0       9      0.0        0   \n",
       "2      12.207778         0.0        0.0        0.0      23      0.0        0   \n",
       "3      29.964545         0.0        0.0        0.0      10      0.0        0   \n",
       "4      17.347895         0.0        0.0        0.0      17      0.0        0   \n",
       "5      14.982273         0.0        0.0        0.0      21      0.0        0   \n",
       "6      13.184400         0.0        0.0        0.0      22      0.0        0   \n",
       "7      13.733750         0.0        0.0        0.0      23      0.0        0   \n",
       "8      12.677308         0.0        0.0        0.0      23      0.0        0   \n",
       "9      13.184400         0.0        0.0        0.0      23      0.0        0   \n",
       "10     12.677308         0.0        0.0        0.0      23      0.0        0   \n",
       "11     15.695714         0.0        0.0        0.0      18      0.0        0   \n",
       "12     13.733750         0.0        0.0        0.0      21      0.0        0   \n",
       "13     15.695714         0.0        0.0        0.0      18      0.0        0   \n",
       "14     25.354615         0.0        0.0        0.0      12      0.0        0   \n",
       "15     14.330870         0.0        0.0        0.0      20      0.0        0   \n",
       "16     16.480500         0.0        0.0        0.0      18      0.0        0   \n",
       "17     15.695714         0.0        0.0        0.0      19      0.0        0   \n",
       "18     17.347895         0.0        0.0        0.0      17      0.0        0   \n",
       "19     17.347895         0.0        0.0        0.0      17      0.0        0   \n",
       "20     20.600625         0.0        0.0        0.0      14      0.0        0   \n",
       "21     20.600625         0.0        0.0        0.0      14      0.0        0   \n",
       "22     25.354615         0.0        0.0        0.0      11      0.0        0   \n",
       "23     14.330870         0.0        0.0        0.0      21      0.0        0   \n",
       "24     17.347895         0.0        0.0        0.0      17      0.0        0   \n",
       "25     25.354615         0.0        0.0        0.0      11      0.0        0   \n",
       "26     15.695714         0.0        0.0        0.0      18      0.0        0   \n",
       "27     16.480500         0.0        0.0        0.0      17      0.0        0   \n",
       "28     16.480500         0.0        0.0        0.0      17      0.0        0   \n",
       "29     16.480500         0.0        0.0        0.0      17      0.0        0   \n",
       "...          ...         ...        ...        ...     ...      ...      ...   \n",
       "41071  12.677308         0.0        0.0        0.0      23      0.0        0   \n",
       "41072  14.330870         0.0        0.0        0.0      21      0.0        0   \n",
       "41073  13.184400         0.0        0.0        0.0      22      0.0        0   \n",
       "41074  15.695714         0.0        0.0        0.0      18      0.0        0   \n",
       "41075  16.480500         0.0        0.0        0.0      17      0.0        0   \n",
       "41076  14.982273         0.0        0.0        0.0      19      0.0        0   \n",
       "41077  14.330870         0.0        0.0        0.0      19      0.0        0   \n",
       "41078  13.733750         0.0        0.0        0.0      21      0.0        0   \n",
       "41079  21.974000         0.0        0.0        0.0      14      0.0        0   \n",
       "41080  15.695714         0.0        0.0        0.0      18      0.0        0   \n",
       "41081  15.695714         0.0        0.0        0.0      18      0.0        0   \n",
       "41082  13.184400         0.0        0.0        0.0      23      0.0        0   \n",
       "41083  11.771786         0.0        0.0        0.0      24      0.0        0   \n",
       "41084  10.987000         0.0        0.0        0.0      26      0.0        0   \n",
       "41085  29.964545         0.0        0.0        0.0      10      0.0        0   \n",
       "41086  18.311667         0.0        0.0        0.0      17      0.0        0   \n",
       "41087  15.695714         0.0        0.0        0.0      18      0.0        0   \n",
       "41088  15.695714         0.0        0.0        0.0      18      0.0        0   \n",
       "41089  18.311667         0.0        0.0        0.0      16      0.0        0   \n",
       "41090  27.467500         0.0        0.0        0.0      11      0.0        0   \n",
       "41091  16.480500         0.0        0.0        0.0      18      0.0        0   \n",
       "41092  12.677308         0.0        0.0        0.0      23      0.0        0   \n",
       "41093  13.733750         0.0        0.0        0.0      21      0.0        0   \n",
       "41094  11.771786         0.0        0.0        0.0      24      0.0        0   \n",
       "41095  13.184400         0.0        0.0        0.0      21      0.0        0   \n",
       "41096  14.982273         0.0        0.0        0.0      19      0.0        0   \n",
       "41097  14.330870         0.0        0.0        0.0      20      0.0        0   \n",
       "41098  15.695714         0.0        0.0        0.0      18      0.0        0   \n",
       "41099  15.695714         0.0        0.0        0.0      18      0.0        0   \n",
       "41100  18.311667         0.0        0.0        0.0      16      0.0        0   \n",
       "\n",
       "       cityA08U  cityCD  cityE  ...  mfrCode  c240Dscr  charge240b  c240bDscr  \\\n",
       "0           0.0     0.0    0.0  ...      NaN       NaN         0.0        NaN   \n",
       "1           0.0     0.0    0.0  ...      NaN       NaN         0.0        NaN   \n",
       "2           0.0     0.0    0.0  ...      NaN       NaN         0.0        NaN   \n",
       "3           0.0     0.0    0.0  ...      NaN       NaN         0.0        NaN   \n",
       "4           0.0     0.0    0.0  ...      NaN       NaN         0.0        NaN   \n",
       "5           0.0     0.0    0.0  ...      NaN       NaN         0.0        NaN   \n",
       "6           0.0     0.0    0.0  ...      NaN       NaN         0.0        NaN   \n",
       "7           0.0     0.0    0.0  ...      NaN       NaN         0.0        NaN   \n",
       "8           0.0     0.0    0.0  ...      NaN       NaN         0.0        NaN   \n",
       "9           0.0     0.0    0.0  ...      NaN       NaN         0.0        NaN   \n",
       "10          0.0     0.0    0.0  ...      NaN       NaN         0.0        NaN   \n",
       "11          0.0     0.0    0.0  ...      NaN       NaN         0.0        NaN   \n",
       "12          0.0     0.0    0.0  ...      NaN       NaN         0.0        NaN   \n",
       "13          0.0     0.0    0.0  ...      NaN       NaN         0.0        NaN   \n",
       "14          0.0     0.0    0.0  ...      NaN       NaN         0.0        NaN   \n",
       "15          0.0     0.0    0.0  ...      NaN       NaN         0.0        NaN   \n",
       "16          0.0     0.0    0.0  ...      NaN       NaN         0.0        NaN   \n",
       "17          0.0     0.0    0.0  ...      NaN       NaN         0.0        NaN   \n",
       "18          0.0     0.0    0.0  ...      NaN       NaN         0.0        NaN   \n",
       "19          0.0     0.0    0.0  ...      NaN       NaN         0.0        NaN   \n",
       "20          0.0     0.0    0.0  ...      NaN       NaN         0.0        NaN   \n",
       "21          0.0     0.0    0.0  ...      NaN       NaN         0.0        NaN   \n",
       "22          0.0     0.0    0.0  ...      NaN       NaN         0.0        NaN   \n",
       "23          0.0     0.0    0.0  ...      NaN       NaN         0.0        NaN   \n",
       "24          0.0     0.0    0.0  ...      NaN       NaN         0.0        NaN   \n",
       "25          0.0     0.0    0.0  ...      NaN       NaN         0.0        NaN   \n",
       "26          0.0     0.0    0.0  ...      NaN       NaN         0.0        NaN   \n",
       "27          0.0     0.0    0.0  ...      NaN       NaN         0.0        NaN   \n",
       "28          0.0     0.0    0.0  ...      NaN       NaN         0.0        NaN   \n",
       "29          0.0     0.0    0.0  ...      NaN       NaN         0.0        NaN   \n",
       "...         ...     ...    ...  ...      ...       ...         ...        ...   \n",
       "41071       0.0     0.0    0.0  ...      NaN       NaN         0.0        NaN   \n",
       "41072       0.0     0.0    0.0  ...      NaN       NaN         0.0        NaN   \n",
       "41073       0.0     0.0    0.0  ...      NaN       NaN         0.0        NaN   \n",
       "41074       0.0     0.0    0.0  ...      NaN       NaN         0.0        NaN   \n",
       "41075       0.0     0.0    0.0  ...      NaN       NaN         0.0        NaN   \n",
       "41076       0.0     0.0    0.0  ...      NaN       NaN         0.0        NaN   \n",
       "41077       0.0     0.0    0.0  ...      NaN       NaN         0.0        NaN   \n",
       "41078       0.0     0.0    0.0  ...      NaN       NaN         0.0        NaN   \n",
       "41079       0.0     0.0    0.0  ...      NaN       NaN         0.0        NaN   \n",
       "41080       0.0     0.0    0.0  ...      NaN       NaN         0.0        NaN   \n",
       "41081       0.0     0.0    0.0  ...      NaN       NaN         0.0        NaN   \n",
       "41082       0.0     0.0    0.0  ...      NaN       NaN         0.0        NaN   \n",
       "41083       0.0     0.0    0.0  ...      NaN       NaN         0.0        NaN   \n",
       "41084       0.0     0.0    0.0  ...      NaN       NaN         0.0        NaN   \n",
       "41085       0.0     0.0    0.0  ...      NaN       NaN         0.0        NaN   \n",
       "41086       0.0     0.0    0.0  ...      NaN       NaN         0.0        NaN   \n",
       "41087       0.0     0.0    0.0  ...      NaN       NaN         0.0        NaN   \n",
       "41088       0.0     0.0    0.0  ...      NaN       NaN         0.0        NaN   \n",
       "41089       0.0     0.0    0.0  ...      NaN       NaN         0.0        NaN   \n",
       "41090       0.0     0.0    0.0  ...      NaN       NaN         0.0        NaN   \n",
       "41091       0.0     0.0    0.0  ...      NaN       NaN         0.0        NaN   \n",
       "41092       0.0     0.0    0.0  ...      NaN       NaN         0.0        NaN   \n",
       "41093       0.0     0.0    0.0  ...      NaN       NaN         0.0        NaN   \n",
       "41094       0.0     0.0    0.0  ...      NaN       NaN         0.0        NaN   \n",
       "41095       0.0     0.0    0.0  ...      NaN       NaN         0.0        NaN   \n",
       "41096       0.0     0.0    0.0  ...      NaN       NaN         0.0        NaN   \n",
       "41097       0.0     0.0    0.0  ...      NaN       NaN         0.0        NaN   \n",
       "41098       0.0     0.0    0.0  ...      NaN       NaN         0.0        NaN   \n",
       "41099       0.0     0.0    0.0  ...      NaN       NaN         0.0        NaN   \n",
       "41100       0.0     0.0    0.0  ...      NaN       NaN         0.0        NaN   \n",
       "\n",
       "                          createdOn                    modifiedOn  startStop  \\\n",
       "0      Tue Jan 01 00:00:00 EST 2013  Tue Jan 01 00:00:00 EST 2013        NaN   \n",
       "1      Tue Jan 01 00:00:00 EST 2013  Tue Jan 01 00:00:00 EST 2013        NaN   \n",
       "2      Tue Jan 01 00:00:00 EST 2013  Tue Jan 01 00:00:00 EST 2013        NaN   \n",
       "3      Tue Jan 01 00:00:00 EST 2013  Tue Jan 01 00:00:00 EST 2013        NaN   \n",
       "4      Tue Jan 01 00:00:00 EST 2013  Tue Jan 01 00:00:00 EST 2013        NaN   \n",
       "5      Tue Jan 01 00:00:00 EST 2013  Tue Jan 01 00:00:00 EST 2013        NaN   \n",
       "6      Tue Jan 01 00:00:00 EST 2013  Tue Jan 01 00:00:00 EST 2013        NaN   \n",
       "7      Tue Jan 01 00:00:00 EST 2013  Tue Jan 01 00:00:00 EST 2013        NaN   \n",
       "8      Tue Jan 01 00:00:00 EST 2013  Tue Jan 01 00:00:00 EST 2013        NaN   \n",
       "9      Tue Jan 01 00:00:00 EST 2013  Tue Jan 01 00:00:00 EST 2013        NaN   \n",
       "10     Tue Jan 01 00:00:00 EST 2013  Tue Jan 01 00:00:00 EST 2013        NaN   \n",
       "11     Tue Jan 01 00:00:00 EST 2013  Tue Jan 01 00:00:00 EST 2013        NaN   \n",
       "12     Tue Jan 01 00:00:00 EST 2013  Tue Jan 01 00:00:00 EST 2013        NaN   \n",
       "13     Tue Jan 01 00:00:00 EST 2013  Tue Jan 01 00:00:00 EST 2013        NaN   \n",
       "14     Tue Jan 01 00:00:00 EST 2013  Tue Jan 01 00:00:00 EST 2013        NaN   \n",
       "15     Tue Jan 01 00:00:00 EST 2013  Tue Jan 01 00:00:00 EST 2013        NaN   \n",
       "16     Tue Jan 01 00:00:00 EST 2013  Tue Jan 01 00:00:00 EST 2013        NaN   \n",
       "17     Tue Jan 01 00:00:00 EST 2013  Tue Jan 01 00:00:00 EST 2013        NaN   \n",
       "18     Tue Jan 01 00:00:00 EST 2013  Tue Jan 01 00:00:00 EST 2013        NaN   \n",
       "19     Tue Jan 01 00:00:00 EST 2013  Tue Jan 01 00:00:00 EST 2013        NaN   \n",
       "20     Tue Jan 01 00:00:00 EST 2013  Tue Jan 01 00:00:00 EST 2013        NaN   \n",
       "21     Tue Jan 01 00:00:00 EST 2013  Tue Jan 01 00:00:00 EST 2013        NaN   \n",
       "22     Tue Jan 01 00:00:00 EST 2013  Tue Jan 01 00:00:00 EST 2013        NaN   \n",
       "23     Tue Jan 01 00:00:00 EST 2013  Tue Jan 01 00:00:00 EST 2013        NaN   \n",
       "24     Tue Jan 01 00:00:00 EST 2013  Tue Jan 01 00:00:00 EST 2013        NaN   \n",
       "25     Tue Jan 01 00:00:00 EST 2013  Tue Jan 01 00:00:00 EST 2013        NaN   \n",
       "26     Tue Jan 01 00:00:00 EST 2013  Tue Jan 01 00:00:00 EST 2013        NaN   \n",
       "27     Tue Jan 01 00:00:00 EST 2013  Tue Jan 01 00:00:00 EST 2013        NaN   \n",
       "28     Tue Jan 01 00:00:00 EST 2013  Tue Jan 01 00:00:00 EST 2013        NaN   \n",
       "29     Tue Jan 01 00:00:00 EST 2013  Tue Jan 01 00:00:00 EST 2013        NaN   \n",
       "...                             ...                           ...        ...   \n",
       "41071  Tue Jan 01 00:00:00 EST 2013  Tue Jan 01 00:00:00 EST 2013        NaN   \n",
       "41072  Tue Jan 01 00:00:00 EST 2013  Tue Jan 01 00:00:00 EST 2013        NaN   \n",
       "41073  Tue Jan 01 00:00:00 EST 2013  Tue Jan 01 00:00:00 EST 2013        NaN   \n",
       "41074  Tue Jan 01 00:00:00 EST 2013  Tue Jan 01 00:00:00 EST 2013        NaN   \n",
       "41075  Tue Jan 01 00:00:00 EST 2013  Tue Jan 01 00:00:00 EST 2013        NaN   \n",
       "41076  Tue Jan 01 00:00:00 EST 2013  Tue Jan 01 00:00:00 EST 2013        NaN   \n",
       "41077  Tue Jan 01 00:00:00 EST 2013  Tue Jan 01 00:00:00 EST 2013        NaN   \n",
       "41078  Tue Jan 01 00:00:00 EST 2013  Tue Jan 01 00:00:00 EST 2013        NaN   \n",
       "41079  Tue Jan 01 00:00:00 EST 2013  Tue Jan 01 00:00:00 EST 2013        NaN   \n",
       "41080  Tue Jan 01 00:00:00 EST 2013  Tue Jan 01 00:00:00 EST 2013        NaN   \n",
       "41081  Tue Jan 01 00:00:00 EST 2013  Tue Jan 01 00:00:00 EST 2013        NaN   \n",
       "41082  Tue Jan 01 00:00:00 EST 2013  Tue Jan 01 00:00:00 EST 2013        NaN   \n",
       "41083  Tue Jan 01 00:00:00 EST 2013  Tue Jan 01 00:00:00 EST 2013        NaN   \n",
       "41084  Tue Jan 01 00:00:00 EST 2013  Tue Jan 01 00:00:00 EST 2013        NaN   \n",
       "41085  Tue Jan 01 00:00:00 EST 2013  Tue Jan 01 00:00:00 EST 2013        NaN   \n",
       "41086  Tue Jan 01 00:00:00 EST 2013  Tue Jan 01 00:00:00 EST 2013        NaN   \n",
       "41087  Tue Jan 01 00:00:00 EST 2013  Tue Jan 01 00:00:00 EST 2013        NaN   \n",
       "41088  Tue Jan 01 00:00:00 EST 2013  Tue Jan 01 00:00:00 EST 2013        NaN   \n",
       "41089  Tue Jan 01 00:00:00 EST 2013  Tue Jan 01 00:00:00 EST 2013        NaN   \n",
       "41090  Tue Jan 01 00:00:00 EST 2013  Tue Jan 01 00:00:00 EST 2013        NaN   \n",
       "41091  Tue Jan 01 00:00:00 EST 2013  Tue Jan 01 00:00:00 EST 2013        NaN   \n",
       "41092  Tue Jan 01 00:00:00 EST 2013  Tue Jan 01 00:00:00 EST 2013        NaN   \n",
       "41093  Tue Jan 01 00:00:00 EST 2013  Tue Jan 01 00:00:00 EST 2013        NaN   \n",
       "41094  Tue Jan 01 00:00:00 EST 2013  Tue Jan 01 00:00:00 EST 2013        NaN   \n",
       "41095  Tue Jan 01 00:00:00 EST 2013  Tue Jan 01 00:00:00 EST 2013        NaN   \n",
       "41096  Tue Jan 01 00:00:00 EST 2013  Tue Jan 01 00:00:00 EST 2013        NaN   \n",
       "41097  Tue Jan 01 00:00:00 EST 2013  Tue Jan 01 00:00:00 EST 2013        NaN   \n",
       "41098  Tue Jan 01 00:00:00 EST 2013  Tue Jan 01 00:00:00 EST 2013        NaN   \n",
       "41099  Tue Jan 01 00:00:00 EST 2013  Tue Jan 01 00:00:00 EST 2013        NaN   \n",
       "41100  Tue Jan 01 00:00:00 EST 2013  Tue Jan 01 00:00:00 EST 2013        NaN   \n",
       "\n",
       "       phevCity  phevHwy  phevComb  \n",
       "0             0        0         0  \n",
       "1             0        0         0  \n",
       "2             0        0         0  \n",
       "3             0        0         0  \n",
       "4             0        0         0  \n",
       "5             0        0         0  \n",
       "6             0        0         0  \n",
       "7             0        0         0  \n",
       "8             0        0         0  \n",
       "9             0        0         0  \n",
       "10            0        0         0  \n",
       "11            0        0         0  \n",
       "12            0        0         0  \n",
       "13            0        0         0  \n",
       "14            0        0         0  \n",
       "15            0        0         0  \n",
       "16            0        0         0  \n",
       "17            0        0         0  \n",
       "18            0        0         0  \n",
       "19            0        0         0  \n",
       "20            0        0         0  \n",
       "21            0        0         0  \n",
       "22            0        0         0  \n",
       "23            0        0         0  \n",
       "24            0        0         0  \n",
       "25            0        0         0  \n",
       "26            0        0         0  \n",
       "27            0        0         0  \n",
       "28            0        0         0  \n",
       "29            0        0         0  \n",
       "...         ...      ...       ...  \n",
       "41071         0        0         0  \n",
       "41072         0        0         0  \n",
       "41073         0        0         0  \n",
       "41074         0        0         0  \n",
       "41075         0        0         0  \n",
       "41076         0        0         0  \n",
       "41077         0        0         0  \n",
       "41078         0        0         0  \n",
       "41079         0        0         0  \n",
       "41080         0        0         0  \n",
       "41081         0        0         0  \n",
       "41082         0        0         0  \n",
       "41083         0        0         0  \n",
       "41084         0        0         0  \n",
       "41085         0        0         0  \n",
       "41086         0        0         0  \n",
       "41087         0        0         0  \n",
       "41088         0        0         0  \n",
       "41089         0        0         0  \n",
       "41090         0        0         0  \n",
       "41091         0        0         0  \n",
       "41092         0        0         0  \n",
       "41093         0        0         0  \n",
       "41094         0        0         0  \n",
       "41095         0        0         0  \n",
       "41096         0        0         0  \n",
       "41097         0        0         0  \n",
       "41098         0        0         0  \n",
       "41099         0        0         0  \n",
       "41100         0        0         0  \n",
       "\n",
       "[41101 rows x 83 columns]>"
      ]
     },
     "execution_count": 3,
     "metadata": {},
     "output_type": "execute_result"
    }
   ],
   "source": [
    "vehicles = pd.read_csv(\"vehicles.csv\")\n",
    "vehicles.head"
   ]
  },
  {
   "cell_type": "code",
   "execution_count": 5,
   "metadata": {},
   "outputs": [
    {
     "data": {
      "text/plain": [
       "array(['sCharger', 'fuelType2', 'rangeA', 'evMotor', 'mfrCode',\n",
       "       'c240Dscr', 'c240bDscr', 'startStop'], dtype=object)"
      ]
     },
     "execution_count": 5,
     "metadata": {},
     "output_type": "execute_result"
    }
   ],
   "source": [
    "column_names = vehicles.columns.values\n",
    "column_names[[68,70,71,72,73,74,76,79]]"
   ]
  },
  {
   "cell_type": "markdown",
   "metadata": {},
   "source": [
    "Mixed data types sounds like it could be problematic so make a \n",
    "mental note of these column names. Remember, data cleaning \n",
    "and wrangling often consume 90 percent of project time."
   ]
  },
  {
   "cell_type": "code",
   "execution_count": 10,
   "metadata": {},
   "outputs": [
    {
     "data": {
      "text/plain": [
       "41101"
      ]
     },
     "execution_count": 10,
     "metadata": {},
     "output_type": "execute_result"
    }
   ],
   "source": [
    "len(vehicles)"
   ]
  },
  {
   "cell_type": "code",
   "execution_count": 11,
   "metadata": {},
   "outputs": [
    {
     "data": {
      "text/plain": [
       "83"
      ]
     },
     "execution_count": 11,
     "metadata": {},
     "output_type": "execute_result"
    }
   ],
   "source": [
    "len(vehicles.columns)"
   ]
  },
  {
   "cell_type": "code",
   "execution_count": 12,
   "metadata": {},
   "outputs": [
    {
     "name": "stdout",
     "output_type": "stream",
     "text": [
      "Index(['barrels08', 'barrelsA08', 'charge120', 'charge240', 'city08',\n",
      "       'city08U', 'cityA08', 'cityA08U', 'cityCD', 'cityE', 'cityUF', 'co2',\n",
      "       'co2A', 'co2TailpipeAGpm', 'co2TailpipeGpm', 'comb08', 'comb08U',\n",
      "       'combA08', 'combA08U', 'combE', 'combinedCD', 'combinedUF', 'cylinders',\n",
      "       'displ', 'drive', 'engId', 'eng_dscr', 'feScore', 'fuelCost08',\n",
      "       'fuelCostA08', 'fuelType', 'fuelType1', 'ghgScore', 'ghgScoreA',\n",
      "       'highway08', 'highway08U', 'highwayA08', 'highwayA08U', 'highwayCD',\n",
      "       'highwayE', 'highwayUF', 'hlv', 'hpv', 'id', 'lv2', 'lv4', 'make',\n",
      "       'model', 'mpgData', 'phevBlended', 'pv2', 'pv4', 'range', 'rangeCity',\n",
      "       'rangeCityA', 'rangeHwy', 'rangeHwyA', 'trany', 'UCity', 'UCityA',\n",
      "       'UHighway', 'UHighwayA', 'VClass', 'year', 'youSaveSpend', 'guzzler',\n",
      "       'trans_dscr', 'tCharger', 'sCharger', 'atvType', 'fuelType2', 'rangeA',\n",
      "       'evMotor', 'mfrCode', 'c240Dscr', 'charge240b', 'c240bDscr',\n",
      "       'createdOn', 'modifiedOn', 'startStop', 'phevCity', 'phevHwy',\n",
      "       'phevComb'],\n",
      "      dtype='object')\n"
     ]
    }
   ],
   "source": [
    "print(vehicles.columns)"
   ]
  },
  {
   "cell_type": "code",
   "execution_count": 13,
   "metadata": {},
   "outputs": [
    {
     "data": {
      "text/plain": [
       "37"
      ]
     },
     "execution_count": 13,
     "metadata": {},
     "output_type": "execute_result"
    }
   ],
   "source": [
    "len(pd.unique(vehicles.year))"
   ]
  },
  {
   "cell_type": "code",
   "execution_count": 14,
   "metadata": {},
   "outputs": [
    {
     "data": {
      "text/plain": [
       "1984"
      ]
     },
     "execution_count": 14,
     "metadata": {},
     "output_type": "execute_result"
    }
   ],
   "source": [
    "min(vehicles.year)"
   ]
  },
  {
   "cell_type": "code",
   "execution_count": 15,
   "metadata": {},
   "outputs": [
    {
     "data": {
      "text/plain": [
       "2020"
      ]
     },
     "execution_count": 15,
     "metadata": {},
     "output_type": "execute_result"
    }
   ],
   "source": [
    "max(vehicles[\"year\"])"
   ]
  },
  {
   "cell_type": "code",
   "execution_count": 16,
   "metadata": {},
   "outputs": [
    {
     "data": {
      "text/plain": [
       "Regular Gasoline     27804\n",
       "Premium Gasoline     11748\n",
       "Diesel                1180\n",
       "Electricity            203\n",
       "Midgrade Gasoline      106\n",
       "Natural Gas             60\n",
       "Name: fuelType1, dtype: int64"
      ]
     },
     "execution_count": 16,
     "metadata": {},
     "output_type": "execute_result"
    }
   ],
   "source": [
    "pd.value_counts(vehicles.fuelType1)"
   ]
  },
  {
   "cell_type": "code",
   "execution_count": 17,
   "metadata": {},
   "outputs": [
    {
     "data": {
      "text/plain": [
       "Automatic 4-spd                     11047\n",
       "Manual 5-spd                         8359\n",
       "Automatic 3-spd                      3151\n",
       "Automatic (S6)                       3097\n",
       "Manual 6-spd                         2755\n",
       "Automatic 5-spd                      2203\n",
       "Automatic (S8)                       1650\n",
       "Automatic 6-spd                      1619\n",
       "Manual 4-spd                         1483\n",
       "Automatic (S5)                        833\n",
       "Automatic (variable gear ratios)      821\n",
       "Automatic 7-spd                       724\n",
       "Automatic 8-spd                       433\n",
       "Automatic (AM-S7)                     424\n",
       "Automatic (S7)                        327\n",
       "Automatic 9-spd                       293\n",
       "Automatic (AM7)                       242\n",
       "Automatic (S4)                        233\n",
       "Automatic (AV-S6)                     205\n",
       "Automatic (A1)                        201\n",
       "Automatic (AM6)                       151\n",
       "Automatic (AV-S7)                     139\n",
       "Automatic (S10)                       120\n",
       "Automatic (AM-S6)                     116\n",
       "Manual 7-spd                          114\n",
       "Automatic (S9)                         86\n",
       "Manual 3-spd                           77\n",
       "Automatic (AM-S8)                      60\n",
       "Automatic (AV-S8)                      47\n",
       "Automatic 10-spd                       25\n",
       "Manual 4-spd Doubled                   17\n",
       "Automatic (AM5)                        14\n",
       "Automatic (AV-S10)                     11\n",
       "Automatic (AM8)                         6\n",
       "Automatic (AM-S9)                       3\n",
       "Automatic (L3)                          2\n",
       "Automatic (L4)                          2\n",
       "Name: trany, dtype: int64"
      ]
     },
     "execution_count": 17,
     "metadata": {},
     "output_type": "execute_result"
    }
   ],
   "source": [
    "pd.value_counts(vehicles.trany)"
   ]
  },
  {
   "cell_type": "code",
   "execution_count": 18,
   "metadata": {},
   "outputs": [
    {
     "data": {
      "text/plain": [
       "A    28285\n",
       "M    12805\n",
       "Name: trany2, dtype: int64"
      ]
     },
     "execution_count": 18,
     "metadata": {},
     "output_type": "execute_result"
    }
   ],
   "source": [
    "vehicles[\"trany2\"] = vehicles.trany.str[0]\n",
    "pd.value_counts(vehicles.trany2)"
   ]
  },
  {
   "cell_type": "code",
   "execution_count": null,
   "metadata": {},
   "outputs": [],
   "source": []
  }
 ],
 "metadata": {
  "kernelspec": {
   "display_name": "Python 3",
   "language": "python",
   "name": "python3"
  },
  "language_info": {
   "codemirror_mode": {
    "name": "ipython",
    "version": 3
   },
   "file_extension": ".py",
   "mimetype": "text/x-python",
   "name": "python",
   "nbconvert_exporter": "python",
   "pygments_lexer": "ipython3",
   "version": "3.7.3"
  }
 },
 "nbformat": 4,
 "nbformat_minor": 2
}
